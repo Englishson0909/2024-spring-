{
  "nbformat": 4,
  "nbformat_minor": 0,
  "metadata": {
    "colab": {
      "private_outputs": true,
      "provenance": [],
      "include_colab_link": true
    },
    "kernelspec": {
      "name": "python3",
      "display_name": "Python 3"
    },
    "language_info": {
      "name": "python"
    }
  },
  "cells": [
    {
      "cell_type": "markdown",
      "metadata": {
        "id": "view-in-github",
        "colab_type": "text"
      },
      "source": [
        "<a href=\"https://colab.research.google.com/github/Englishson0909/2024spring/blob/main/Visualchartseminar20240425/Seminar01C.ipynb\" target=\"_parent\"><img src=\"https://colab.research.google.com/assets/colab-badge.svg\" alt=\"Open In Colab\"/></a>"
      ]
    },
    {
      "cell_type": "markdown",
      "source": [
        "##😘 **2.3 Real data for practice**"
      ],
      "metadata": {
        "id": "9YO-WyLwDe0G"
      }
    },
    {
      "cell_type": "markdown",
      "source": [
        "* import packages: this is not a complete list, so you need to install and/or import packages when additional packages are used in later codes.\n",
        "* Instruction: for each task, datasets are given. You can run the code and get the data.\n",
        "* Follow 💙 for tasks to do"
      ],
      "metadata": {
        "id": "O6GkmJjsqrPV"
      }
    },
    {
      "cell_type": "code",
      "source": [
        "import numpy as np\n",
        "import pandas as pd\n",
        "from scipy import stats\n",
        "import matplotlib.pyplot as plt"
      ],
      "metadata": {
        "id": "wJy_4auKqeUe"
      },
      "execution_count": null,
      "outputs": []
    },
    {
      "cell_type": "markdown",
      "source": [
        "### 1. Histogram, Density Graph, Normality Test"
      ],
      "metadata": {
        "id": "v5krM29RoJGK"
      }
    },
    {
      "cell_type": "code",
      "execution_count": null,
      "metadata": {
        "id": "g_CbuagVCI4H"
      },
      "outputs": [],
      "source": [
        "import numpy as np\n",
        "\n",
        "# Generate normally distributed heights of 500 individuals\n",
        "heights = np.random.normal(170, 10, 500)  # mean=170cm, std=10cm\n",
        "heights = np.round(heights) # list\n",
        "\n",
        "data = heights\n",
        "print(data)\n"
      ]
    },
    {
      "cell_type": "code",
      "source": [
        "import numpy as np\n",
        "import pandas as pd\n",
        "\n",
        "# Generate normally distributed heights of 500 individuals\n",
        "heights = np.random.normal(170, 10, 500)  # mean=170cm, std=10cm\n",
        "heights = np.round(heights)  # list\n",
        "\n",
        "# Create a pandas DataFrame\n",
        "data = pd.DataFrame(heights, columns=['Height'])\n",
        "\n",
        "# Save the DataFrame to a CSV file\n",
        "data.to_csv('heights.csv', index=False)\n",
        "\n",
        "print(\"CSV 파일이 생성되었습니다.\")\n"
      ],
      "metadata": {
        "id": "z-M0LtKNh26E"
      },
      "execution_count": null,
      "outputs": []
    },
    {
      "cell_type": "markdown",
      "source": [
        "### 💙 With the given data, generate histogram and density graph, and conduct a normality test"
      ],
      "metadata": {
        "id": "vA9M2aWj-paJ"
      }
    },
    {
      "cell_type": "code",
      "source": [
        "# Code to write\n",
        "# To generate fake names for my sample data generation\n",
        "!pip install faker\n"
      ],
      "metadata": {
        "id": "7XuKE2sh--KO"
      },
      "execution_count": null,
      "outputs": []
    },
    {
      "cell_type": "code",
      "source": [
        "import numpy as np\n",
        "import pandas as pd\n",
        "\n",
        "# Generate normally distributed heights of 500 individuals\n",
        "heights = np.random.normal(170, 10, 500)  # mean=170cm, std=10cm\n",
        "heights = np.round(heights)  # list\n",
        "\n",
        "# Create a pandas DataFrame\n",
        "df = pd.DataFrame({'heights': heights})\n",
        "\n",
        "print(df)\n",
        "\n"
      ],
      "metadata": {
        "id": "Xz1qQbL3iWZE"
      },
      "execution_count": null,
      "outputs": []
    },
    {
      "cell_type": "code",
      "source": [
        "df.to_csv(\"heights\", index=False)"
      ],
      "metadata": {
        "id": "FKOZhkp5gyqs"
      },
      "execution_count": null,
      "outputs": []
    },
    {
      "cell_type": "markdown",
      "source": [
        "p value가 .05보다 커서 정규분포"
      ],
      "metadata": {
        "id": "lDcoWqkIjqLs"
      }
    },
    {
      "cell_type": "code",
      "source": [
        "from scipy.stats import shapiro\n",
        "\n",
        "# 1.Perform Shapiro-Wilk test for normality\n",
        "shapiro_test = shapiro(heights)\n",
        "\n",
        "print(\"Shapiro-Wilk Test:\")\n",
        "print(f\"Statistics={shapiro_test[0]}, p-value={shapiro_test[1]}\")\n"
      ],
      "metadata": {
        "id": "0RFxqzR4i7PW"
      },
      "execution_count": null,
      "outputs": []
    },
    {
      "cell_type": "code",
      "source": [
        "#2. Histogram\n",
        "import matplotlib.pyplot as plt"
      ],
      "metadata": {
        "id": "9f0suaa9jxBl"
      },
      "execution_count": null,
      "outputs": []
    },
    {
      "cell_type": "code",
      "source": [
        "heights = np.random.normal(170, 10, 500)\n",
        "import numpy as np\n",
        "\n",
        "# Generate a list of 98 observations from a normal distribution with mean 68 and standard deviation 12\n",
        "mean = 170\n",
        "std_dev = 10\n",
        "data2 = np.random.normal(mean, std_dev, 498)\n",
        "\n",
        "# Add two outliers manually\n",
        "outlier1 = 0  # An outlier greater than 3 standard deviations from the mean\n",
        "outlier2 = 25   # An outlier less than 3 standard deviations from the mean\n",
        "data2 = np.append(data2, [outlier1, outlier2])\n",
        "\n",
        "print(data2)"
      ],
      "metadata": {
        "id": "JH3PtD2_k0rT"
      },
      "execution_count": null,
      "outputs": []
    },
    {
      "cell_type": "code",
      "source": [
        "plt.hist(data2, bins=30, edgecolor='k',color=\"red\")\n",
        "# Save the plot to a file (e.g., 'box_plot.png')\n",
        "plt.savefig('histogram.png', dpi=300)  # You can change the filename and format"
      ],
      "metadata": {
        "id": "foCTuyYAl_9F"
      },
      "execution_count": null,
      "outputs": []
    },
    {
      "cell_type": "code",
      "source": [
        "#3.  Density Graph\n",
        "import matplotlib.pyplot as plt\n",
        "import numpy as np\n",
        "from scipy.stats import norm\n",
        "\n",
        "# Plot histogram for data1 with density instead of frequency\n",
        "plt.hist(data2, bins=10, edgecolor='k', density=True, color=\"blue\")\n",
        "\n",
        "plt.xlabel('Values')\n",
        "plt.ylabel('Density')\n",
        "plt.title('Histogram with Density Line')\n",
        "\n",
        "# Calculate parameters for the density line (mean and standard deviation) for data1\n",
        "mean = np.mean(data2)\n",
        "std_dev = np.std(data2)\n",
        "\n",
        "# Generate data points for the density line\n",
        "x = np.linspace(min(data2), max(data2), 100)\n",
        "density = norm.pdf(x, mean, std_dev)\n",
        "\n",
        "# Plot the density line\n",
        "plt.plot(x, density, label='Density Line', color=\"yellow\")\n",
        "\n",
        "# Display legend\n",
        "plt.legend()\n",
        "\n",
        "# Show the plot\n",
        "plt.show()\n"
      ],
      "metadata": {
        "id": "_L1L5Ae2kBpO"
      },
      "execution_count": null,
      "outputs": []
    },
    {
      "cell_type": "markdown",
      "source": [
        "### 2. Box Plot"
      ],
      "metadata": {
        "id": "kovLqFvgoQKs"
      }
    },
    {
      "cell_type": "code",
      "source": [
        "import numpy as np\n",
        "import pandas as pd\n",
        "\n",
        "# Exam scores in 4 different subjects for 50 students\n",
        "scores_math = np.random.randint(50, 100, 50)\n",
        "scores_science = np.random.randint(55, 100, 50)\n",
        "scores_history = np.random.randint(40, 100, 50)\n",
        "scores_english = np.random.randint(60, 100, 50)\n",
        "\n",
        "df = pd.DataFrame({              # Dictionary data\n",
        "    'Math': scores_math,\n",
        "    'Science': scores_science,\n",
        "    'History': scores_history,\n",
        "    'English': scores_english\n",
        "})\n",
        "\n",
        "print(df)\n"
      ],
      "metadata": {
        "id": "eL1kO-uSoSSV"
      },
      "execution_count": null,
      "outputs": []
    },
    {
      "cell_type": "code",
      "source": [
        "# Exam scores in 4 different subjects for 50 students\n",
        "scores_math = np.random.randint(50, 100, 50)\n",
        "\n",
        "\n",
        "Math = pd.DataFrame({'Math': scores_math})\n",
        "\n",
        "# Save the DataFrame to a CSV file\n",
        "Math.to_csv('Math.csv', index=False)\n",
        "\n",
        "print(\"Math.csv 파일이 생성되었습니다.\")\n"
      ],
      "metadata": {
        "id": "MjqDEvjXqp-7"
      },
      "execution_count": null,
      "outputs": []
    },
    {
      "cell_type": "code",
      "source": [
        "# Create a box plot\n",
        "plt.boxplot(Math)\n",
        "plt.xlabel('Math')\n",
        "plt.ylabel('Values')\n",
        "plt.title('Box Plot of Math')\n",
        "plt.show()"
      ],
      "metadata": {
        "id": "W2ntmzFDrRlU"
      },
      "execution_count": null,
      "outputs": []
    },
    {
      "cell_type": "code",
      "source": [
        "# Exam scores in 4 different subjects for 50 students\n",
        "scores_math = np.random.randint(50, 100, 50)\n",
        "\n",
        "\n",
        "Science = pd.DataFrame({'Science': scores_math})\n",
        "\n",
        "# Save the DataFrame to a CSV file\n",
        "Science.to_csv('Science.csv', index=False)\n",
        "\n",
        "print(\"Science.csv 파일이 생성되었습니다.\")"
      ],
      "metadata": {
        "id": "aMOCVp_Lq0GT"
      },
      "execution_count": null,
      "outputs": []
    },
    {
      "cell_type": "code",
      "source": [
        "# Create a box plot\n",
        "plt.boxplot(Science)\n",
        "plt.xlabel('Science')\n",
        "plt.ylabel('Values')\n",
        "plt.title('Box Plot of Science')\n",
        "plt.show()"
      ],
      "metadata": {
        "id": "BMA2F3I7rjmb"
      },
      "execution_count": null,
      "outputs": []
    },
    {
      "cell_type": "code",
      "source": [
        "# Exam scores in 4 different subjects for 50 students\n",
        "scores_math = np.random.randint(50, 100, 50)\n",
        "\n",
        "\n",
        "History = pd.DataFrame({'History': scores_math})\n",
        "\n",
        "# Save the DataFrame to a CSV file\n",
        "History.to_csv('History.csv', index=False)\n",
        "\n",
        "print(\"History.csv 파일이 생성되었습니다.\")"
      ],
      "metadata": {
        "id": "v-LFgm8oq-76"
      },
      "execution_count": null,
      "outputs": []
    },
    {
      "cell_type": "code",
      "source": [
        "# Create a box plot\n",
        "plt.boxplot(History)\n",
        "plt.xlabel('History')\n",
        "plt.ylabel('Values')\n",
        "plt.title('Box Plot of History')\n",
        "plt.show()"
      ],
      "metadata": {
        "id": "W9tV5fPpsDSS"
      },
      "execution_count": null,
      "outputs": []
    },
    {
      "cell_type": "code",
      "source": [
        "# Exam scores in 4 different subjects for 50 students\n",
        "scores_math = np.random.randint(50, 100, 50)\n",
        "\n",
        "\n",
        "English = pd.DataFrame({'English': scores_math})\n",
        "\n",
        "# Save the DataFrame to a CSV file\n",
        "English.to_csv('English.csv', index=False)\n",
        "\n",
        "print(\"English.csv 파일이 생성되었습니다.\")"
      ],
      "metadata": {
        "id": "ETXyQdYzrHdb"
      },
      "execution_count": null,
      "outputs": []
    },
    {
      "cell_type": "code",
      "source": [
        "# Create a box plot\n",
        "plt.boxplot(English)\n",
        "plt.xlabel('English')\n",
        "plt.ylabel('Values')\n",
        "plt.title('Box Plot of English')\n",
        "plt.show()"
      ],
      "metadata": {
        "id": "dR4Akr8jsZJ8"
      },
      "execution_count": null,
      "outputs": []
    },
    {
      "cell_type": "markdown",
      "source": [
        "### 💙 Generate box plots for each subject, and all together for comparison"
      ],
      "metadata": {
        "id": "ay3qj-i4_nYc"
      }
    },
    {
      "cell_type": "code",
      "source": [
        "import numpy as np\n",
        "import pandas as pd\n",
        "\n",
        "# Exam scores in 4 different subjects for 50 students\n",
        "scores_math = np.random.randint(50, 100, 50)\n",
        "scores_science = np.random.randint(55, 100, 50)\n",
        "scores_history = np.random.randint(40, 100, 50)\n",
        "scores_english = np.random.randint(60, 100, 50)\n",
        "\n",
        "Comparison = pd.DataFrame({\n",
        "    'Math': scores_math,\n",
        "    'Science': scores_science,\n",
        "    'History': scores_history,\n",
        "    'English': scores_english\n",
        "})\n",
        "\n",
        "# Save the DataFrame to a CSV file\n",
        "Comparison.to_csv('exam_scores.csv', index=False)\n",
        "\n",
        "print(\"exam_scores.csv 파일이 생성되었습니다.\")\n"
      ],
      "metadata": {
        "id": "zyw1RDNi_w6Q"
      },
      "execution_count": null,
      "outputs": []
    },
    {
      "cell_type": "code",
      "source": [],
      "metadata": {
        "id": "ZYhuEXhtoTwb"
      },
      "execution_count": null,
      "outputs": []
    },
    {
      "cell_type": "code",
      "source": [
        "# Create a box plot\n",
        "plt.boxplot(Comparison)\n",
        "plt.xlabel('Subjects')\n",
        "plt.ylabel('Values')\n",
        "plt.title('Comparion')\n",
        "plt.show()"
      ],
      "metadata": {
        "id": "1khe8dwaNb_e"
      },
      "execution_count": null,
      "outputs": []
    },
    {
      "cell_type": "markdown",
      "source": [
        "과목이름을 숫자가 아닌 이름으로 표시하는 방법"
      ],
      "metadata": {
        "id": "3n4koNeGtX8S"
      }
    },
    {
      "cell_type": "markdown",
      "source": [
        "### 3. Scatter Plot"
      ],
      "metadata": {
        "id": "-8DkG4xWoUF3"
      }
    },
    {
      "cell_type": "code",
      "source": [
        "import numpy as np\n",
        "\n",
        "# Height and Weight of 100 individuals\n",
        "height = np.random.normal(170, 10, 100)  # Height in cm\n",
        "weight = height * 0.5 + np.random.normal(0, 5, 100)  # Weight in kg\n",
        "# Create a pandas DataFrame\n",
        "df1 = pd.DataFrame({'height': height})\n",
        "df2 = pd.DataFrame({'weight': weight})\n",
        "print(df1)\n",
        "print(df2)"
      ],
      "metadata": {
        "id": "Jy0SRMYeoYFk"
      },
      "execution_count": null,
      "outputs": []
    },
    {
      "cell_type": "markdown",
      "source": [
        "### 💙 With the given variables, generate a dataframe 'df' and generate a scatter plot for each."
      ],
      "metadata": {
        "id": "ed5Ez8XJ_yvr"
      }
    },
    {
      "cell_type": "code",
      "source": [
        "import numpy as np\n",
        "import pandas as pd\n",
        "\n",
        "# Height and Weight of 100 individuals\n",
        "height = np.random.normal(170, 10, 100)  # Height in cm\n",
        "weight = height * 0.5 + np.random.normal(0, 5, 100)  # Weight in kg\n",
        "\n",
        "# Create DataFrames\n",
        "df1 = pd.DataFrame({'height': height})\n",
        "df2 = pd.DataFrame({'weight': weight})\n",
        "\n",
        "# Save each DataFrame to a CSV file\n",
        "df1.to_csv('height.csv', index=False)\n",
        "df2.to_csv('weight.csv', index=False)\n",
        "\n",
        "print(\"height.csv와 weight.csv 파일이 생성되었습니다.\")\n"
      ],
      "metadata": {
        "id": "owk9WdI5_8Ae"
      },
      "execution_count": null,
      "outputs": []
    },
    {
      "cell_type": "markdown",
      "source": [
        "chat gpt4 도움"
      ],
      "metadata": {
        "id": "RYPFnhISwwRa"
      }
    },
    {
      "cell_type": "code",
      "source": [
        "import matplotlib.pyplot as plt\n",
        "import pandas as pd\n",
        "\n",
        "# Read data from CSV files\n",
        "df1 = pd.read_csv('height.csv')\n",
        "df2 = pd.read_csv('weight.csv')\n",
        "\n",
        "# Create scatter plot for height\n",
        "plt.scatter(df1['height'], range(len(df1)), label='Height')\n",
        "\n",
        "# Create scatter plot for weight\n",
        "plt.scatter(df2['weight'], range(len(df2)), label='Weight')\n",
        "\n",
        "plt.xlabel('Value')\n",
        "plt.ylabel('Index')\n",
        "plt.title('Scatter Plot of Height and Weight')\n",
        "plt.legend()\n",
        "plt.grid(True)\n",
        "plt.show()\n"
      ],
      "metadata": {
        "id": "uIv_neejwqus"
      },
      "execution_count": null,
      "outputs": []
    },
    {
      "cell_type": "markdown",
      "source": [
        "각각 scattor plot을 만드는 방법"
      ],
      "metadata": {
        "id": "me4i3lBuwcFd"
      }
    },
    {
      "cell_type": "code",
      "source": [
        "\n",
        "import matplotlib.pyplot as plt\n",
        "\n",
        "# Assuming df1 and df2 are defined\n",
        "x = df1['height']  # Get the 'height' column from df1\n",
        "y = df2['weight']  # Get the 'weight' column from df2\n",
        "\n",
        "# Create a scatter plot\n",
        "plt.scatter(x, y)\n",
        "plt.xlabel('Height')\n",
        "plt.ylabel('Weight')\n",
        "plt.title('Scatter Plot')\n",
        "plt.grid(True)  # Add a grid (optional)\n",
        "\n",
        "# Show the plot\n",
        "plt.show()\n"
      ],
      "metadata": {
        "id": "ZMKkAd2mvhga"
      },
      "execution_count": null,
      "outputs": []
    },
    {
      "cell_type": "markdown",
      "source": [
        "### 💙 With the given variables, generate a single scatter plot with x = height and y = weight."
      ],
      "metadata": {
        "id": "bfLqkGLG_8bv"
      }
    },
    {
      "cell_type": "code",
      "source": [],
      "metadata": {
        "id": "z7HdNIbzAIeL"
      },
      "execution_count": null,
      "outputs": []
    },
    {
      "cell_type": "markdown",
      "source": [
        "### 4. Bar Plot"
      ],
      "metadata": {
        "id": "fC3e2JkmoZMx"
      }
    },
    {
      "cell_type": "code",
      "source": [
        "import pandas as pd\n",
        "\n",
        "# Average monthly sales data for a year\n",
        "months = ['Jan', 'Feb', 'Mar', 'Apr', 'May', 'Jun', 'Jul', 'Aug', 'Sep', 'Oct', 'Nov', 'Dec']\n",
        "sales = np.random.randint(1000, 5000, 12)  # Sales in units\n",
        "\n",
        "# Create a DataFrame with months as the index and sales as the column\n",
        "df1 = pd.DataFrame({\n",
        "    'Sales': sales\n",
        "}, index=months)\n",
        "\n",
        "# Save the DataFrame to a CSV file\n",
        "df1.to_csv('monthly_sales.csv')\n",
        "\n",
        "print(\"monthly_sales.csv 파일이 생성되었습니다.\")\n"
      ],
      "metadata": {
        "id": "O81rsFq6obEq"
      },
      "execution_count": null,
      "outputs": []
    },
    {
      "cell_type": "markdown",
      "source": [
        "### 💙 Generate a bar plot by months"
      ],
      "metadata": {
        "id": "39o8w-jbSchC"
      }
    },
    {
      "cell_type": "code",
      "source": [
        "import pandas as pd\n",
        "import numpy as np\n",
        "import matplotlib.pyplot as plt\n",
        "\n",
        "# Average monthly sales data for a year\n",
        "months = ['Jan', 'Feb', 'Mar', 'Apr', 'May', 'Jun', 'Jul', 'Aug', 'Sep', 'Oct', 'Nov', 'Dec']\n",
        "sales = np.random.randint(1000, 5000, 12)  # Sales in units\n",
        "\n",
        "# Create a DataFrame with months as the index and sales as the column\n",
        "df1 = pd.DataFrame({\n",
        "    'Sales': sales\n",
        "}, index=months)\n",
        "\n",
        "# Save the DataFrame to a CSV file\n",
        "df1.to_csv('monthly_sales.csv')\n",
        "\n",
        "print(\"monthly_sales.csv 파일이 생성되었습니다.\")\n",
        "\n",
        "# Read data from CSV file\n",
        "df2 = pd.read_csv('monthly_sales.csv', index_col=0)\n",
        "\n",
        "# Create a bar plot using DataFrame data\n",
        "plt.bar(df2.index, df2['Sales'], label='Monthly Sales')\n",
        "plt.xlabel('Months')\n",
        "plt.ylabel('Sales')\n",
        "plt.title('Monthly Sales')\n",
        "plt.legend()\n",
        "plt.show()\n"
      ],
      "metadata": {
        "id": "VULOzJOKx5G0"
      },
      "execution_count": null,
      "outputs": []
    },
    {
      "cell_type": "markdown",
      "source": [
        "## 5. Pie Chart"
      ],
      "metadata": {
        "id": "wgDYbYt9ocBG"
      }
    },
    {
      "cell_type": "code",
      "source": [
        "import numpy as np\n",
        "\n",
        "# Market share of 5 companies\n",
        "companies = ['Company A', 'Company B', 'Company C', 'Company D', 'Company E']\n",
        "market_share = np.random.rand(5)\n",
        "market_share /= market_share.sum()\n",
        "\n",
        "# Create a DataFrame with companies as the index and market share as the column\n",
        "df2 = pd.DataFrame({\n",
        "    'Share': market_share\n",
        "}, index=companies)\n",
        "\n",
        "# Display the DataFrame\n",
        "print(df2)\n"
      ],
      "metadata": {
        "id": "b50SLEyQodEC"
      },
      "execution_count": null,
      "outputs": []
    },
    {
      "cell_type": "markdown",
      "source": [
        "### 💙 With the given data (df2), generate a pie chart of the company shares"
      ],
      "metadata": {
        "id": "rXkeizX9BGOj"
      }
    },
    {
      "cell_type": "markdown",
      "source": [
        "In the code below, 'autopct='%1.1f%%' string tells matplotlib to format the numbers as floating point values with one digit after the decimal point. The %% at the end is how you escape a percent sign in a format string, resulting in a literal '%' appearing after the number."
      ],
      "metadata": {
        "id": "1nH31XQYDhGO"
      }
    },
    {
      "cell_type": "code",
      "source": [
        "# Generate a pie chart\n",
        "plt.figure(figsize=(8, 8))  # Set the figure size as needed\n",
        "plt.pie(df2['Share'], labels=df2.index, autopct='%1.1f%%', startangle=90)\n",
        "plt.title('Market Share of Companies')\n",
        "plt.show()"
      ],
      "metadata": {
        "id": "MDvxoAnQBZ7L"
      },
      "execution_count": null,
      "outputs": []
    },
    {
      "cell_type": "markdown",
      "source": [
        "### 6. Line Graph"
      ],
      "metadata": {
        "id": "Qp3_KjQfoeTo"
      }
    },
    {
      "cell_type": "code",
      "source": [
        "import numpy as np\n",
        "\n",
        "# Yearly average temperature for 10 years\n",
        "years = np.arange(2010, 2020)\n",
        "temperature = np.random.uniform(14, 20, len(years))  # Temperature in Celsius\n"
      ],
      "metadata": {
        "id": "17Pgy_Uvog5_"
      },
      "execution_count": null,
      "outputs": []
    },
    {
      "cell_type": "code",
      "source": [
        "import pandas as pd\n",
        "import numpy as np\n",
        "\n",
        "# Average monthly sales data for a year\n",
        "years = ['2010', '2020']\n",
        "temperature = np.random.uniform(14, 20, len(years))  # Temperature in Celsius\n",
        "\n",
        "# Create a DataFrame with years as the index and temperature as the column\n",
        "df1 = pd.DataFrame({\n",
        "    'temperature': temperature\n",
        "}, index=years)\n",
        "\n",
        "# Save the DataFrame to a CSV file\n",
        "df1.to_csv('yearly_temperature.csv')\n",
        "\n",
        "print(\"yearly_temperature.csv 파일이 생성되었습니다.\")\n"
      ],
      "metadata": {
        "id": "HSHueJE6zHoT"
      },
      "execution_count": null,
      "outputs": []
    },
    {
      "cell_type": "markdown",
      "source": [
        "### 💙 With the variables in the above, generate df2 dataframe, and then generate a line gragh"
      ],
      "metadata": {
        "id": "jQLIKfZ3DDlM"
      }
    },
    {
      "cell_type": "code",
      "source": [
        "import matplotlib.pyplot as plt\n",
        "import pandas as pd\n",
        "\n",
        "# Read the temperature data from the CSV file\n",
        "df = pd.read_csv('yearly_temperature.csv', index_col=0)\n",
        "\n",
        "# Extract x and y data from the DataFrame\n",
        "x = df.index  # Years\n",
        "y = df['temperature']  # Temperature\n",
        "\n",
        "# Create a line graph\n",
        "plt.plot(x, y, marker='o', linestyle='-', color='blue', label='Temperature')  # Customize markers, linestyle, and color\n",
        "plt.xlabel('Year')\n",
        "plt.ylabel('Temperature (Celsius)')\n",
        "plt.title('Yearly Temperature')\n",
        "plt.grid(True)  # Add a grid (optional)\n",
        "\n",
        "# Show the plot\n",
        "plt.legend()  # Display the legend (optional)\n",
        "plt.show()\n",
        "\n"
      ],
      "metadata": {
        "id": "jAPJC9bKDQ5a"
      },
      "execution_count": null,
      "outputs": []
    },
    {
      "cell_type": "markdown",
      "source": [
        "### 7. Radar Chart"
      ],
      "metadata": {
        "id": "Z6-mYXekoh4p"
      }
    },
    {
      "cell_type": "code",
      "source": [
        "import pandas as pd\n",
        "import numpy as np\n",
        "\n",
        "# Performance metrics for 3 employees in 5 areas\n",
        "labels = np.array(['Efficiency', 'Quality', 'Commitment', 'Responsibility', 'Teamwork'])\n",
        "performance_A = np.random.randint(1, 5, 5)\n",
        "performance_B = np.random.randint(1, 5, 5)\n",
        "performance_C = np.random.randint(1, 5, 5)\n",
        "\n",
        "# Create a DataFrame\n",
        "df3 = pd.DataFrame({\n",
        "    'Metric': labels,\n",
        "    'Employee A': performance_A,\n",
        "    'Employee B': performance_B,\n",
        "    'Employee C': performance_C\n",
        "})\n",
        "\n",
        "# Set 'Metric' as the index\n",
        "df3.set_index('Metric', inplace=True)\n",
        "\n",
        "# Save the DataFrame to a CSV file\n",
        "df3.to_csv('employee_performance.csv')\n",
        "\n",
        "print(\"employee_performance.csv 파일이 생성되었습니다.\")\n"
      ],
      "metadata": {
        "id": "T_UGYfO_okMA"
      },
      "execution_count": null,
      "outputs": []
    },
    {
      "cell_type": "markdown",
      "source": [
        "### 💙 With the given data (df3), generate a radar chart"
      ],
      "metadata": {
        "id": "n1xw_aU_DJvy"
      }
    },
    {
      "cell_type": "code",
      "source": [
        "import numpy as np\n",
        "import matplotlib.pyplot as plt\n",
        "\n",
        "# Example data for different categories\n",
        "categories = ['Efficiency', 'Quality', 'Commitment', 'Responsibility', 'Teamwork']\n",
        "\n",
        "# Data values for a single data point (e.g., an individual or group)\n",
        "data_values = [4, 3, 5, 2, 4]\n",
        "\n",
        "# Number of categories\n",
        "num_categories = len(categories)\n",
        "\n",
        "# Calculate the angle for each category\n",
        "angles = np.linspace(0, 2 * np.pi, num_categories, endpoint=False).tolist()\n",
        "angles += angles[:1]  # Close the circle\n",
        "\n",
        "# Create a radar chart\n",
        "plt.figure(figsize=(6, 6))\n",
        "ax = plt.subplot(111, polar=True)  # Specify polar projection\n",
        "\n",
        "# Repeat the first data point to create a closed loop\n",
        "data_values += data_values[:1]\n",
        "\n",
        "# Plot the data\n",
        "ax.fill(angles, data_values, 'b', alpha=0.1)  # Fill the area under the curve\n",
        "ax.set_thetagrids(np.degrees(angles[:-1]), labels=categories)  # Set category labels\n",
        "\n",
        "# Add a title\n",
        "plt.title('Radar Chart')\n",
        "\n",
        "# Show the plot\n",
        "plt.show()\n"
      ],
      "metadata": {
        "id": "r_REBVy7DP-S"
      },
      "execution_count": null,
      "outputs": []
    },
    {
      "cell_type": "markdown",
      "source": [
        "### 8. Pareto Plot"
      ],
      "metadata": {
        "id": "EDjS20_gorJS"
      }
    },
    {
      "cell_type": "markdown",
      "source": [
        "### 💙 With the given data (df4), generate a Pareto plot"
      ],
      "metadata": {
        "id": "fHCCS72RDBJp"
      }
    },
    {
      "cell_type": "code",
      "source": [
        "import numpy as np\n",
        "\n",
        "# Complaint types and their frequencies\n",
        "complaint_types = ['Type A', 'Type B', 'Type C', 'Type D', 'Type E']\n",
        "frequencies = np.random.randint(10, 100, len(complaint_types))\n",
        "\n",
        "# Create a DataFrame\n",
        "df4 = pd.DataFrame({\n",
        "    'Complaint Type': complaint_types,\n",
        "    'Frequency': frequencies\n",
        "})\n",
        "\n",
        "# Set 'Complaint Type' as the index\n",
        "df4.set_index('Complaint Type', inplace=True)\n",
        "\n",
        "# Display the DataFrame\n",
        "print(df4)"
      ],
      "metadata": {
        "id": "ISREG3Fb4T38"
      },
      "execution_count": null,
      "outputs": []
    },
    {
      "cell_type": "code",
      "source": [],
      "metadata": {
        "id": "xPG1D14o4t7R"
      },
      "execution_count": null,
      "outputs": []
    },
    {
      "cell_type": "code",
      "source": [
        "import matplotlib.pyplot as plt\n",
        "\n",
        "# Sort the DataFrame by 'Frequency' in ascending order\n",
        "df4_sorted = df4.sort_values(by='Frequency', ascending=True)\n",
        "\n",
        "# Calculate cumulative percentage\n",
        "df4_sorted['Cumulative Percentage'] = (df4_sorted['Frequency'].cumsum() / df4_sorted['Frequency'].sum()) * 100\n",
        "\n",
        "# Specify bar colors\n",
        "bar_colors = ['blue', 'green', 'red', 'purple', 'orange']\n",
        "\n",
        "# Create a Pareto plot\n",
        "plt.figure(figsize=(10, 6))\n",
        "ax = plt.subplot()\n",
        "\n",
        "# Bar plot for 'Frequency' with custom colors\n",
        "ax.bar(df4_sorted.index, df4_sorted['Frequency'], color=bar_colors, alpha=0.7, label='Frequency')\n",
        "\n",
        "# Line plot for 'Cumulative Percentage'\n",
        "ax.plot(df4_sorted.index, df4_sorted['Cumulative Percentage'], color='gray', marker='o', label='Cumulative Percentage')\n",
        "\n",
        "# Customize labels and title\n",
        "plt.xlabel('Complaint Types')\n",
        "plt.ylabel('Frequency / Cumulative Percentage')\n",
        "plt.title('Pareto Plot (Ascending Order)')\n",
        "plt.xticks(rotation=45)  # Rotate x-axis labels for better readability\n",
        "\n",
        "# Show the Pareto plot with legend\n",
        "plt.legend()\n",
        "plt.show()\n"
      ],
      "metadata": {
        "id": "4xbw5A3GfamS"
      },
      "execution_count": null,
      "outputs": []
    },
    {
      "cell_type": "markdown",
      "source": [
        "#The END"
      ],
      "metadata": {
        "id": "woHB9-3uo3lD"
      }
    }
  ]
}
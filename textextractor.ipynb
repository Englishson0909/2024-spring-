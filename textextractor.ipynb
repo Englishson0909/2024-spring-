{
  "nbformat": 4,
  "nbformat_minor": 0,
  "metadata": {
    "colab": {
      "provenance": [],
      "authorship_tag": "ABX9TyPqJCszc8TQ7mwxX/EWYVUC",
      "include_colab_link": true
    },
    "kernelspec": {
      "name": "python3",
      "display_name": "Python 3"
    },
    "language_info": {
      "name": "python"
    }
  },
  "cells": [
    {
      "cell_type": "markdown",
      "metadata": {
        "id": "view-in-github",
        "colab_type": "text"
      },
      "source": [
        "<a href=\"https://colab.research.google.com/github/Englishson0909/2024spring/blob/main/textextractor.ipynb\" target=\"_parent\"><img src=\"https://colab.research.google.com/assets/colab-badge.svg\" alt=\"Open In Colab\"/></a>"
      ]
    },
    {
      "cell_type": "code",
      "execution_count": 1,
      "metadata": {
        "colab": {
          "base_uri": "https://localhost:8080/"
        },
        "id": "ozC-kmLgvp7x",
        "outputId": "dce52ef6-077a-429e-b801-e31bd9bb1b90"
      },
      "outputs": [
        {
          "output_type": "stream",
          "name": "stdout",
          "text": [
            "Collecting yt-dlp\n",
            "  Downloading yt_dlp-2024.8.6-py3-none-any.whl.metadata (170 kB)\n",
            "\u001b[?25l     \u001b[90m━━━━━━━━━━━━━━━━━━━━━━━━━━━━━━━━━━━━━━━━\u001b[0m \u001b[32m0.0/170.1 kB\u001b[0m \u001b[31m?\u001b[0m eta \u001b[36m-:--:--\u001b[0m\r\u001b[2K     \u001b[91m━━━━━━━━━━━━━━━━━━━━━━━━━━━━━━━━━\u001b[0m\u001b[91m╸\u001b[0m\u001b[90m━━━━━━\u001b[0m \u001b[32m143.4/170.1 kB\u001b[0m \u001b[31m4.0 MB/s\u001b[0m eta \u001b[36m0:00:01\u001b[0m\r\u001b[2K     \u001b[90m━━━━━━━━━━━━━━━━━━━━━━━━━━━━━━━━━━━━━━━━\u001b[0m \u001b[32m170.1/170.1 kB\u001b[0m \u001b[31m2.5 MB/s\u001b[0m eta \u001b[36m0:00:00\u001b[0m\n",
            "\u001b[?25hCollecting speechrecognition\n",
            "  Downloading SpeechRecognition-3.10.4-py2.py3-none-any.whl.metadata (28 kB)\n",
            "Collecting pydub\n",
            "  Downloading pydub-0.25.1-py2.py3-none-any.whl.metadata (1.4 kB)\n",
            "Collecting brotli (from yt-dlp)\n",
            "  Downloading Brotli-1.1.0-cp310-cp310-manylinux_2_5_x86_64.manylinux1_x86_64.manylinux_2_12_x86_64.manylinux2010_x86_64.whl.metadata (5.5 kB)\n",
            "Requirement already satisfied: certifi in /usr/local/lib/python3.10/dist-packages (from yt-dlp) (2024.7.4)\n",
            "Collecting mutagen (from yt-dlp)\n",
            "  Downloading mutagen-1.47.0-py3-none-any.whl.metadata (1.7 kB)\n",
            "Collecting pycryptodomex (from yt-dlp)\n",
            "  Downloading pycryptodomex-3.20.0-cp35-abi3-manylinux_2_17_x86_64.manylinux2014_x86_64.whl.metadata (3.4 kB)\n",
            "Requirement already satisfied: requests<3,>=2.32.2 in /usr/local/lib/python3.10/dist-packages (from yt-dlp) (2.32.3)\n",
            "Requirement already satisfied: urllib3<3,>=1.26.17 in /usr/local/lib/python3.10/dist-packages (from yt-dlp) (2.0.7)\n",
            "Collecting websockets>=12.0 (from yt-dlp)\n",
            "  Downloading websockets-13.0-cp310-cp310-manylinux_2_5_x86_64.manylinux1_x86_64.manylinux_2_17_x86_64.manylinux2014_x86_64.whl.metadata (6.7 kB)\n",
            "Requirement already satisfied: typing-extensions in /usr/local/lib/python3.10/dist-packages (from speechrecognition) (4.12.2)\n",
            "Requirement already satisfied: charset-normalizer<4,>=2 in /usr/local/lib/python3.10/dist-packages (from requests<3,>=2.32.2->yt-dlp) (3.3.2)\n",
            "Requirement already satisfied: idna<4,>=2.5 in /usr/local/lib/python3.10/dist-packages (from requests<3,>=2.32.2->yt-dlp) (3.7)\n",
            "Downloading yt_dlp-2024.8.6-py3-none-any.whl (3.1 MB)\n",
            "\u001b[2K   \u001b[90m━━━━━━━━━━━━━━━━━━━━━━━━━━━━━━━━━━━━━━━━\u001b[0m \u001b[32m3.1/3.1 MB\u001b[0m \u001b[31m31.5 MB/s\u001b[0m eta \u001b[36m0:00:00\u001b[0m\n",
            "\u001b[?25hDownloading SpeechRecognition-3.10.4-py2.py3-none-any.whl (32.8 MB)\n",
            "\u001b[2K   \u001b[90m━━━━━━━━━━━━━━━━━━━━━━━━━━━━━━━━━━━━━━━━\u001b[0m \u001b[32m32.8/32.8 MB\u001b[0m \u001b[31m20.1 MB/s\u001b[0m eta \u001b[36m0:00:00\u001b[0m\n",
            "\u001b[?25hDownloading pydub-0.25.1-py2.py3-none-any.whl (32 kB)\n",
            "Downloading websockets-13.0-cp310-cp310-manylinux_2_5_x86_64.manylinux1_x86_64.manylinux_2_17_x86_64.manylinux2014_x86_64.whl (157 kB)\n",
            "\u001b[2K   \u001b[90m━━━━━━━━━━━━━━━━━━━━━━━━━━━━━━━━━━━━━━━━\u001b[0m \u001b[32m157.2/157.2 kB\u001b[0m \u001b[31m6.1 MB/s\u001b[0m eta \u001b[36m0:00:00\u001b[0m\n",
            "\u001b[?25hDownloading Brotli-1.1.0-cp310-cp310-manylinux_2_5_x86_64.manylinux1_x86_64.manylinux_2_12_x86_64.manylinux2010_x86_64.whl (3.0 MB)\n",
            "\u001b[2K   \u001b[90m━━━━━━━━━━━━━━━━━━━━━━━━━━━━━━━━━━━━━━━━\u001b[0m \u001b[32m3.0/3.0 MB\u001b[0m \u001b[31m37.1 MB/s\u001b[0m eta \u001b[36m0:00:00\u001b[0m\n",
            "\u001b[?25hDownloading mutagen-1.47.0-py3-none-any.whl (194 kB)\n",
            "\u001b[2K   \u001b[90m━━━━━━━━━━━━━━━━━━━━━━━━━━━━━━━━━━━━━━━━\u001b[0m \u001b[32m194.4/194.4 kB\u001b[0m \u001b[31m7.3 MB/s\u001b[0m eta \u001b[36m0:00:00\u001b[0m\n",
            "\u001b[?25hDownloading pycryptodomex-3.20.0-cp35-abi3-manylinux_2_17_x86_64.manylinux2014_x86_64.whl (2.1 MB)\n",
            "\u001b[2K   \u001b[90m━━━━━━━━━━━━━━━━━━━━━━━━━━━━━━━━━━━━━━━━\u001b[0m \u001b[32m2.1/2.1 MB\u001b[0m \u001b[31m43.6 MB/s\u001b[0m eta \u001b[36m0:00:00\u001b[0m\n",
            "\u001b[?25hInstalling collected packages: pydub, brotli, websockets, pycryptodomex, mutagen, yt-dlp, speechrecognition\n",
            "Successfully installed brotli-1.1.0 mutagen-1.47.0 pycryptodomex-3.20.0 pydub-0.25.1 speechrecognition-3.10.4 websockets-13.0 yt-dlp-2024.8.6\n"
          ]
        }
      ],
      "source": [
        "pip install yt-dlp speechrecognition pydub\n"
      ]
    },
    {
      "cell_type": "code",
      "source": [
        "python youtube_to_text.py\n"
      ],
      "metadata": {
        "colab": {
          "base_uri": "https://localhost:8080/",
          "height": 106
        },
        "id": "HIPV48-YwDxJ",
        "outputId": "eeb3743d-09bf-436e-ec26-493d19ad6cde"
      },
      "execution_count": 3,
      "outputs": [
        {
          "output_type": "error",
          "ename": "SyntaxError",
          "evalue": "invalid syntax (<ipython-input-3-93a579da5318>, line 1)",
          "traceback": [
            "\u001b[0;36m  File \u001b[0;32m\"<ipython-input-3-93a579da5318>\"\u001b[0;36m, line \u001b[0;32m1\u001b[0m\n\u001b[0;31m    python youtube_to_text.py\u001b[0m\n\u001b[0m           ^\u001b[0m\n\u001b[0;31mSyntaxError\u001b[0m\u001b[0;31m:\u001b[0m invalid syntax\n"
          ]
        }
      ]
    },
    {
      "cell_type": "code",
      "source": [
        "# Install necessary packages if you haven't already\n",
        "# You can do this by running:\n",
        "# pip install yt-dlp speechrecognition pydub\n",
        "\n",
        "import yt_dlp\n",
        "import speech_recognition as sr\n",
        "from pydub import AudioSegment\n",
        "import os\n",
        "\n",
        "# Function to download the YouTube video and extract audio\n",
        "def download_youtube_audio(youtube_url, output_audio_path='audio.wav'):\n",
        "    print(\"Downloading audio from YouTube...\")\n",
        "    ydl_opts = {\n",
        "        'format': 'bestaudio/best',\n",
        "        'outtmpl': 'audio.%(ext)s',\n",
        "        'postprocessors': [{\n",
        "            'key': 'FFmpegExtractAudio',\n",
        "            'preferredcodec': 'mp3',\n",
        "            'preferredquality': '192',\n",
        "        }],\n",
        "    }\n",
        "\n",
        "    with yt_dlp.YoutubeDL(ydl_opts) as ydl:\n",
        "        ydl.download([youtube_url])\n",
        "\n",
        "    # Convert the mp3 file to wav format\n",
        "    print(\"Converting audio to WAV format...\")\n",
        "    audio = AudioSegment.from_file('audio.mp3', format=\"mp3\")\n",
        "    audio.export(output_audio_path, format=\"wav\")\n",
        "\n",
        "    # Remove the temporary mp3 file\n",
        "    os.remove('audio.mp3')\n",
        "\n",
        "    return output_audio_path\n",
        "\n",
        "# Function to transcribe audio to text\n",
        "def transcribe_audio(audio_path):\n",
        "    print(\"Transcribing audio to text...\")\n",
        "    recognizer = sr.Recognizer()\n",
        "    with sr.AudioFile(audio_path) as source:\n",
        "        audio = recognizer.record(source)\n",
        "    try:\n",
        "        text = recognizer.recognize_google(audio)\n",
        "        return text\n",
        "    except sr.UnknownValueError:\n",
        "        return \"Google Speech Recognition could not understand the audio\"\n",
        "    except sr.RequestError as e:\n",
        "        return f\"Could not request results from Google Speech Recognition service; {e}\"\n",
        "\n",
        "if __name__ == \"__main__\":\n",
        "    youtube_url = input(\"Enter YouTube video URL: \")\n",
        "    audio_path = download_youtube_audio(youtube_url)\n",
        "    transcript = transcribe_audio(audio_path)\n",
        "    print(\"Transcript:\\n\", transcript)\n"
      ],
      "metadata": {
        "colab": {
          "base_uri": "https://localhost:8080/"
        },
        "id": "8zWHZ2iZwWpf",
        "outputId": "da8160ce-0fb2-4d65-f6e6-dda52c5aa8b5"
      },
      "execution_count": 4,
      "outputs": [
        {
          "output_type": "stream",
          "name": "stdout",
          "text": [
            "Enter YouTube video URL: https://youtu.be/GOlCXVWoNVc?t=6\n",
            "Downloading audio from YouTube...\n",
            "[youtube] Extracting URL: https://youtu.be/GOlCXVWoNVc?t=6\n",
            "[youtube] GOlCXVWoNVc: Downloading webpage\n",
            "[youtube] GOlCXVWoNVc: Downloading ios player API JSON\n",
            "[youtube] GOlCXVWoNVc: Downloading web creator player API JSON\n",
            "[youtube] GOlCXVWoNVc: Downloading player 6db2bd17\n",
            "[youtube] GOlCXVWoNVc: Downloading m3u8 information\n",
            "[info] GOlCXVWoNVc: Downloading 1 format(s): 251\n",
            "[download] Destination: audio.webm\n",
            "[download] 100% of    4.37MiB in 00:00:00 at 10.37MiB/s  \n",
            "[ExtractAudio] Destination: audio.mp3\n",
            "Deleting original file audio.webm (pass -k to keep)\n",
            "Converting audio to WAV format...\n",
            "Transcribing audio to text...\n",
            "Transcript:\n",
            " Could not request results from Google Speech Recognition service; recognition connection failed: [Errno 32] Broken pipe\n"
          ]
        }
      ]
    },
    {
      "cell_type": "code",
      "source": [
        "def transcribe_audio_in_chunks(audio_path, chunk_duration=30):\n",
        "    print(\"Transcribing audio to text in chunks...\")\n",
        "    recognizer = sr.Recognizer()\n",
        "    audio = AudioSegment.from_wav(audio_path)\n",
        "    duration = len(audio) // 1000  # Convert milliseconds to seconds\n",
        "    transcript = []\n",
        "\n",
        "    for i in range(0, duration, chunk_duration):\n",
        "        chunk = audio[i*1000:(i+chunk_duration)*1000]\n",
        "        chunk.export(\"chunk.wav\", format=\"wav\")\n",
        "        with sr.AudioFile(\"chunk.wav\") as source:\n",
        "            audio_chunk = recognizer.record(source)\n",
        "            try:\n",
        "                text = recognizer.recognize_google(audio_chunk)\n",
        "                transcript.append(text)\n",
        "            except sr.UnknownValueError:\n",
        "                transcript.append(\"[Unintelligible]\")\n",
        "            except sr.RequestError as e:\n",
        "                transcript.append(f\"[Error: {e}]\")\n",
        "\n",
        "    os.remove(\"chunk.wav\")\n",
        "    return \" \".join(transcript)\n"
      ],
      "metadata": {
        "id": "V0ArK79Aw64w"
      },
      "execution_count": 5,
      "outputs": []
    },
    {
      "cell_type": "code",
      "source": [
        "if __name__ == \"__main__\":\n",
        "    youtube_url = input(\"Enter YouTube video URL: \")\n",
        "    audio_path = download_youtube_audio(youtube_url)\n",
        "    transcript = transcribe_audio_in_chunks(audio_path)\n",
        "    print(\"Transcript:\\n\", transcript)\n"
      ],
      "metadata": {
        "colab": {
          "base_uri": "https://localhost:8080/"
        },
        "id": "vClQIsKaw-WH",
        "outputId": "2b9a8d67-3318-416a-d015-25664cf581f6"
      },
      "execution_count": 6,
      "outputs": [
        {
          "output_type": "stream",
          "name": "stdout",
          "text": [
            "Enter YouTube video URL: https://youtu.be/GOlCXVWoNVc\n",
            "Downloading audio from YouTube...\n",
            "[youtube] Extracting URL: https://youtu.be/GOlCXVWoNVc\n",
            "[youtube] GOlCXVWoNVc: Downloading webpage\n",
            "[youtube] GOlCXVWoNVc: Downloading ios player API JSON\n",
            "[youtube] GOlCXVWoNVc: Downloading web creator player API JSON\n",
            "[youtube] GOlCXVWoNVc: Downloading m3u8 information\n",
            "[info] GOlCXVWoNVc: Downloading 1 format(s): 251\n",
            "[download] Destination: audio.webm\n",
            "[download] 100% of    4.37MiB in 00:00:00 at 21.45MiB/s  \n",
            "[ExtractAudio] Destination: audio.mp3\n",
            "Deleting original file audio.webm (pass -k to keep)\n",
            "Converting audio to WAV format...\n",
            "Transcribing audio to text in chunks...\n",
            "Transcript:\n",
            " sometimes I think I'm cursed sometimes I think I'm cursed sometimes I think I'm cursed sometimes I think I'm cursed sometimes I think I'm cursed because of something that happened before I was even born because of something that happened before I was even born because of something that happened before I was even born because of something that happened before I was even born because of something that happened before I was even born see a long time ago there was this family see a long time ago there was this family see a long time ago there was this family see a long time ago there was this family see a long time ago where was this family the Papa he was a musician the Papa he was a musician the Papa he was a musician the Papa he was a musician the Papa he was a musician he and his family would sing and dance and count your blessings he and his family would sing and dance and count your blessings what does family would sing and dance and count your blessings he and his family would sing and dance and count your blessings he and his family would sing and dance and count your blessings but he also had a dream to play for the world but he also had a dream to play for the world but he also had a dream to play for the world but he also had a dream to play for the world but he also had a dream to play for the world and one day and one day and one day and one day she left with his guitar she left with his guitar she left with his guitar she left with his guitar he left with his guitar and never returned and never returned and never returned and never returned and never returned in the mama she didn't have time to cry over that walk away musician and the mama she didn't have time to cry over that walk away musician and the mama she didn't have time to cry over that walk away musician and mama she didn't have time to cry over that way musician and mama she didn't have time to cry over that walk away musician after banishing all music from her life after banishing all music from her life after banishing all music from her life after banishing all music from her life she found a way to provide for her daughter she found a way to provide for her daughter she found a way to provide for her daughter she found a way to provide for her daughter she found a way to provide for her daughter we rolled up her sleeves she rolled up her sleeves she rolled up her sleeves she rolled up her sleeves and she learned to make shoes and she learned to make shoes and she learned to make shoes and she learned to news and she learned to make shoes\n"
          ]
        }
      ]
    },
    {
      "cell_type": "code",
      "source": [],
      "metadata": {
        "id": "62K3uFqIx7bQ"
      },
      "execution_count": null,
      "outputs": []
    }
  ]
}